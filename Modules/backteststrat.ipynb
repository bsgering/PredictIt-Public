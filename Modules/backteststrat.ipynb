{
 "cells": [
  {
   "cell_type": "code",
   "execution_count": 4,
   "metadata": {},
   "outputs": [],
   "source": [
    "import numpy as np\n",
    "import pandas as pd\n",
    "import statistics as st\n",
    "from scipy.stats import norm"
   ]
  },
  {
   "cell_type": "code",
   "execution_count": null,
   "metadata": {},
   "outputs": [],
   "source": []
  },
  {
   "cell_type": "code",
   "execution_count": 5,
   "metadata": {},
   "outputs": [],
   "source": [
    "def backteststrat (tolerance, ratiodataset):        \n",
    "    data = []\n",
    "    for i in ratiodataset:\n",
    "        if i < 2:\n",
    "            print('statserror')\n",
    "        else:\n",
    "            ratiotest = ratiodataset.iloc[i,3]\n",
    "            backratios = ratiodataset.iloc[:i-1,3]\n",
    "            stdevcomparevalue = st.stdev(backratios)\n",
    "            averageratio = st.mean(backratios)\n",
    "            Ztolerance = norm.ppf(tolerance)\n",
    "            withintolerance = Ztolerance*stdevcomparevalue\n",
    "            if ratiotest > (averageratio+withintolerance):\n",
    "                data.append([ratiodataset.iloc[i,0], ratiodataset.iloc[i,3], 1])\n",
    "            elif ratiotest < (averageratio-withintolerance):\n",
    "                data.append([ratiodataset.iloc[i,0], ratiodataset.iloc[i,3], 1])\n",
    "            else:\n",
    "                data.append([ratiodataset.iloc[i,0], ratiodataset.iloc[i,3], 0])                \n",
    "    col_names =  ['Timestamp', 'Ratio', 'Trade?']\n",
    "    backtest_trade_df = pd.DataFrame(data, columns = col_names)\n",
    "    return backtest_trade_df"
   ]
  },
  {
   "cell_type": "code",
   "execution_count": null,
   "metadata": {},
   "outputs": [],
   "source": []
  }
 ],
 "metadata": {
  "kernelspec": {
   "display_name": "Python 3",
   "language": "python",
   "name": "python3"
  },
  "language_info": {
   "codemirror_mode": {
    "name": "ipython",
    "version": 3
   },
   "file_extension": ".py",
   "mimetype": "text/x-python",
   "name": "python",
   "nbconvert_exporter": "python",
   "pygments_lexer": "ipython3",
   "version": "3.7.3"
  }
 },
 "nbformat": 4,
 "nbformat_minor": 2
}
