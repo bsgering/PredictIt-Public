{
 "cells": [
  {
   "cell_type": "code",
   "execution_count": 13,
   "metadata": {},
   "outputs": [],
   "source": [
    "import csv\n",
    "import pandas as pd\n",
    "import statsmodels\n",
    "import sqlite3\n",
    "import sqlalchemy as sq\n",
    "import numpy as np"
   ]
  },
  {
   "cell_type": "code",
   "execution_count": 14,
   "metadata": {},
   "outputs": [],
   "source": [
    "fileList = ['2019-09-10.db','2019-09-17.db','2019-09-24.db']"
   ]
  },
  {
   "cell_type": "code",
   "execution_count": 48,
   "metadata": {},
   "outputs": [],
   "source": [
    "def pullMarkets(marketName, filelist):\n",
    "    keyFrame = []\n",
    "    keyList = []\n",
    "    #Retrieves the marketID from the SQL file\n",
    "    for i in range(len(filelist)):\n",
    "        dbName = (filelist[i])\n",
    "        conn = sqlite3.connect(dbName)\n",
    "        c = conn.cursor()\n",
    "        c.execute(\"SELECT market_id FROM Markets WHERE market_name =?\" , [marketName])\n",
    "        df = c.fetchall()\n",
    "        c.close()\n",
    "        keyFrame.append(df)\n",
    "    #Turns the Dataframe into a list. There is probably a better way to do this so that it is never a dataframe, but I don't\n",
    "    #know it at the moment and this works\n",
    "    for i in range(len(keyFrame)):\n",
    "        keyList.append(keyFrame[i])\n",
    "    return keyList\n",
    "\n",
    "def numpy_sql_connection(conns):\n",
    "    connections = [sqlite3.connect() for x in conns]\n",
    "    return connections\n",
    "    \n",
    "\n",
    "def pullMarketsnumpy(marketName, filelist):\n",
    "    filearray = np.asarray(filelist)\n",
    "    sqlite_array = np.array(['sqlite:///']*conns.size)\n",
    "    engine = create_engine(+conns[0:conns.size])\n",
    "    keyFrame = []\n",
    "    keyList = []\n",
    "    \n",
    "    #Retrieves the marketID from the SQL file\n",
    "    for i in range(len(filelist)):\n",
    "        dbName = (filelist[i])\n",
    "        conn = sqlite3.connect(dbName)\n",
    "        df = pd.read_sql(\"SELECT market_id FROM Markets WHERE market_name = '%s'\" %marketName, conn)\n",
    "        keyFrame.append(df)\n",
    "    #Turns the Dataframe into a list. There is probably a better way to do this so that it is never a dataframe, but I don't\n",
    "    #know it at the moment and this works\n",
    "    for i in range(len(keyFrame)):\n",
    "        keyList.append(keyFrame[i].iat[0,0])\n",
    "    return keyList\n",
    "\n",
    "\n",
    "#A sub function for the pullContract function, so that we can call \"Pull Contract\" as one function rather than a function and a loop.\n",
    "#Have to do this to index both lists at the same time and have the ids match with the right database.\n",
    "def subPullContract(marketID, contractName, filenum):\n",
    "    keyFrame = []\n",
    "    #Retrieves the contractID from the SQL file\n",
    "    dbName = (filenum)\n",
    "    conn = sqlite3.connect(dbName)\n",
    "    df = pd.read_sql(\"SELECT contract_id FROM Contracts WHERE market_id = '%d' AND contract_name = '%s' \" % (marketID, contractName), conn)\n",
    "    keyFrame.append(df)\n",
    "    #Turns the Dataframe into a list. There is probably a better way to do this so that it is never a dataframe, but I don't\n",
    "    #know it at the moment and this works\n",
    "    conVal = (keyFrame[0].iat[0,0])\n",
    "    return conVal\n",
    "\n",
    "\n",
    "\n",
    "def pullContract(marketIDs, contractName, filelist):\n",
    "    contractIDs = []\n",
    "    for i in range(len(filelist)):\n",
    "        val = subPullContract(marketIDs[i], contractName, filelist[i])\n",
    "        contractIDs.append(val)\n",
    "    return contractIDs\n",
    "\n",
    "\n",
    "def pullFullDataFrame(filelist, conNums):\n",
    "    priceDF = pd.DataFrame()\n",
    "    for i in range(len(filelist)):\n",
    "        dbName = (filelist[i])\n",
    "        conNum = (conNums[i])\n",
    "        conn = sqlite3.connect(dbName)\n",
    "        df = pd.read_sql(\"SELECT buy_yes FROM Prices WHERE contract_id = '%d' \" % (conNum), conn)\n",
    "        priceDF = df.append(priceDF, ignore_index = True)\n",
    "   \n",
    "        # Select from SQL command: Table: Prices\n",
    "        #contractID: conNums[i]\n",
    "        #value: buy_yes\n",
    "        #send this to dataframe\n",
    "        #append the info to a new dataframe\n",
    "    return priceDF\n",
    "\n",
    "def tradeRatio(x,y):\n",
    "    z = x / y\n",
    "    return z"
   ]
  },
  {
   "cell_type": "code",
   "execution_count": 49,
   "metadata": {},
   "outputs": [
    {
     "name": "stdout",
     "output_type": "stream",
     "text": [
      "[[(19,)], [(19,)], [(19,)]]\n"
     ]
    }
   ],
   "source": [
    "print(pullMarketsbad('Who will win the 2020 Democratic presidential nomination?', fileList))"
   ]
  },
  {
   "cell_type": "code",
   "execution_count": 50,
   "metadata": {},
   "outputs": [
    {
     "ename": "TypeError",
     "evalue": "%d format: a number is required, not list",
     "output_type": "error",
     "traceback": [
      "\u001b[0;31m---------------------------------------------------------------------------\u001b[0m",
      "\u001b[0;31mTypeError\u001b[0m                                 Traceback (most recent call last)",
      "\u001b[0;32m<ipython-input-50-a64bd272fe5a>\u001b[0m in \u001b[0;36m<module>\u001b[0;34m\u001b[0m\n\u001b[1;32m      2\u001b[0m \u001b[0mmarketNumPrez\u001b[0m \u001b[0;34m=\u001b[0m \u001b[0mpullMarkets\u001b[0m\u001b[0;34m(\u001b[0m\u001b[0;34m'Who will win the 2020 U.S. presidential election?'\u001b[0m\u001b[0;34m,\u001b[0m \u001b[0mfileList\u001b[0m\u001b[0;34m)\u001b[0m\u001b[0;34m\u001b[0m\u001b[0;34m\u001b[0m\u001b[0m\n\u001b[1;32m      3\u001b[0m \u001b[0;34m\u001b[0m\u001b[0m\n\u001b[0;32m----> 4\u001b[0;31m \u001b[0mjoeConNom\u001b[0m \u001b[0;34m=\u001b[0m \u001b[0mpullContract\u001b[0m\u001b[0;34m(\u001b[0m\u001b[0mmarketNumDem\u001b[0m\u001b[0;34m,\u001b[0m \u001b[0;34m'Andrew Yang'\u001b[0m\u001b[0;34m,\u001b[0m \u001b[0mfileList\u001b[0m\u001b[0;34m)\u001b[0m\u001b[0;34m\u001b[0m\u001b[0;34m\u001b[0m\u001b[0m\n\u001b[0m\u001b[1;32m      5\u001b[0m \u001b[0mjoeConPrez\u001b[0m \u001b[0;34m=\u001b[0m \u001b[0mpullContract\u001b[0m\u001b[0;34m(\u001b[0m\u001b[0mmarketNumPrez\u001b[0m\u001b[0;34m,\u001b[0m \u001b[0;34m'Andrew Yang'\u001b[0m\u001b[0;34m,\u001b[0m \u001b[0mfileList\u001b[0m\u001b[0;34m)\u001b[0m\u001b[0;34m\u001b[0m\u001b[0;34m\u001b[0m\u001b[0m\n\u001b[1;32m      6\u001b[0m \u001b[0;34m\u001b[0m\u001b[0m\n",
      "\u001b[0;32m<ipython-input-48-97946e3d43c3>\u001b[0m in \u001b[0;36mpullContract\u001b[0;34m(marketIDs, contractName, filelist)\u001b[0m\n\u001b[1;32m     61\u001b[0m     \u001b[0mcontractIDs\u001b[0m \u001b[0;34m=\u001b[0m \u001b[0;34m[\u001b[0m\u001b[0;34m]\u001b[0m\u001b[0;34m\u001b[0m\u001b[0;34m\u001b[0m\u001b[0m\n\u001b[1;32m     62\u001b[0m     \u001b[0;32mfor\u001b[0m \u001b[0mi\u001b[0m \u001b[0;32min\u001b[0m \u001b[0mrange\u001b[0m\u001b[0;34m(\u001b[0m\u001b[0mlen\u001b[0m\u001b[0;34m(\u001b[0m\u001b[0mfilelist\u001b[0m\u001b[0;34m)\u001b[0m\u001b[0;34m)\u001b[0m\u001b[0;34m:\u001b[0m\u001b[0;34m\u001b[0m\u001b[0;34m\u001b[0m\u001b[0m\n\u001b[0;32m---> 63\u001b[0;31m         \u001b[0mval\u001b[0m \u001b[0;34m=\u001b[0m \u001b[0msubPullContract\u001b[0m\u001b[0;34m(\u001b[0m\u001b[0mmarketIDs\u001b[0m\u001b[0;34m[\u001b[0m\u001b[0mi\u001b[0m\u001b[0;34m]\u001b[0m\u001b[0;34m,\u001b[0m \u001b[0mcontractName\u001b[0m\u001b[0;34m,\u001b[0m \u001b[0mfilelist\u001b[0m\u001b[0;34m[\u001b[0m\u001b[0mi\u001b[0m\u001b[0;34m]\u001b[0m\u001b[0;34m)\u001b[0m\u001b[0;34m\u001b[0m\u001b[0;34m\u001b[0m\u001b[0m\n\u001b[0m\u001b[1;32m     64\u001b[0m         \u001b[0mcontractIDs\u001b[0m\u001b[0;34m.\u001b[0m\u001b[0mappend\u001b[0m\u001b[0;34m(\u001b[0m\u001b[0mval\u001b[0m\u001b[0;34m)\u001b[0m\u001b[0;34m\u001b[0m\u001b[0;34m\u001b[0m\u001b[0m\n\u001b[1;32m     65\u001b[0m     \u001b[0;32mreturn\u001b[0m \u001b[0mcontractIDs\u001b[0m\u001b[0;34m\u001b[0m\u001b[0;34m\u001b[0m\u001b[0m\n",
      "\u001b[0;32m<ipython-input-48-97946e3d43c3>\u001b[0m in \u001b[0;36msubPullContract\u001b[0;34m(marketID, contractName, filenum)\u001b[0m\n\u001b[1;32m     49\u001b[0m     \u001b[0mdbName\u001b[0m \u001b[0;34m=\u001b[0m \u001b[0;34m(\u001b[0m\u001b[0mfilenum\u001b[0m\u001b[0;34m)\u001b[0m\u001b[0;34m\u001b[0m\u001b[0;34m\u001b[0m\u001b[0m\n\u001b[1;32m     50\u001b[0m     \u001b[0mconn\u001b[0m \u001b[0;34m=\u001b[0m \u001b[0msqlite3\u001b[0m\u001b[0;34m.\u001b[0m\u001b[0mconnect\u001b[0m\u001b[0;34m(\u001b[0m\u001b[0mdbName\u001b[0m\u001b[0;34m)\u001b[0m\u001b[0;34m\u001b[0m\u001b[0;34m\u001b[0m\u001b[0m\n\u001b[0;32m---> 51\u001b[0;31m     \u001b[0mdf\u001b[0m \u001b[0;34m=\u001b[0m \u001b[0mpd\u001b[0m\u001b[0;34m.\u001b[0m\u001b[0mread_sql\u001b[0m\u001b[0;34m(\u001b[0m\u001b[0;34m\"SELECT contract_id FROM Contracts WHERE market_id = '%d' AND contract_name = '%s' \"\u001b[0m \u001b[0;34m%\u001b[0m \u001b[0;34m(\u001b[0m\u001b[0mmarketID\u001b[0m\u001b[0;34m,\u001b[0m \u001b[0mcontractName\u001b[0m\u001b[0;34m)\u001b[0m\u001b[0;34m,\u001b[0m \u001b[0mconn\u001b[0m\u001b[0;34m)\u001b[0m\u001b[0;34m\u001b[0m\u001b[0;34m\u001b[0m\u001b[0m\n\u001b[0m\u001b[1;32m     52\u001b[0m     \u001b[0mkeyFrame\u001b[0m\u001b[0;34m.\u001b[0m\u001b[0mappend\u001b[0m\u001b[0;34m(\u001b[0m\u001b[0mdf\u001b[0m\u001b[0;34m)\u001b[0m\u001b[0;34m\u001b[0m\u001b[0;34m\u001b[0m\u001b[0m\n\u001b[1;32m     53\u001b[0m     \u001b[0;31m#Turns the Dataframe into a list. There is probably a better way to do this so that it is never a dataframe, but I don't\u001b[0m\u001b[0;34m\u001b[0m\u001b[0;34m\u001b[0m\u001b[0;34m\u001b[0m\u001b[0m\n",
      "\u001b[0;31mTypeError\u001b[0m: %d format: a number is required, not list"
     ]
    }
   ],
   "source": [
    "marketNumDem = pullMarkets('Who will win the 2020 Democratic presidential nomination?', fileList)    \n",
    "marketNumPrez = pullMarkets('Who will win the 2020 U.S. presidential election?', fileList)\n",
    "    \n",
    "joeConNom = pullContract(marketNumDem, 'Andrew Yang', fileList)\n",
    "joeConPrez = pullContract(marketNumPrez, 'Andrew Yang', fileList)\n",
    "\n",
    "bidenPrezPrice = pullFullDataFrame(fileList, joeConPrez)\n",
    "bidenNominationPrice = pullFullDataFrame(fileList, joeConNom)\n",
    "\n",
    "mergedset = pd.merge(bidenPrezPrice, bidenNominationPrice, left_index=True, right_index = True, how = 'outer')\n",
    "mergedset['Ratio'] = mergedset[['buy_yes_x','buy_yes_y']].apply(lambda x: tradeRatio(x.buy_yes_x, x.buy_yes_y), axis=1)\n",
    "\n",
    "print(mergedset)\n",
    "\n",
    "mergedset.reset_index().plot(x='index', y = 'Ratio')\n",
    "\n",
    "\n",
    "print('if you got nothing, failed')"
   ]
  },
  {
   "cell_type": "code",
   "execution_count": null,
   "metadata": {},
   "outputs": [],
   "source": []
  }
 ],
 "metadata": {
  "kernelspec": {
   "display_name": "Python 3",
   "language": "python",
   "name": "python3"
  },
  "language_info": {
   "codemirror_mode": {
    "name": "ipython",
    "version": 3
   },
   "file_extension": ".py",
   "mimetype": "text/x-python",
   "name": "python",
   "nbconvert_exporter": "python",
   "pygments_lexer": "ipython3",
   "version": "3.7.3"
  }
 },
 "nbformat": 4,
 "nbformat_minor": 2
}
