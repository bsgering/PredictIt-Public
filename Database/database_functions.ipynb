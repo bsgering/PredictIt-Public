{
 "cells": [
  {
   "cell_type": "code",
   "execution_count": 1,
   "metadata": {},
   "outputs": [],
   "source": [
    "import urllib.request as rq\n",
    "import json as js\n",
    "from dateutil import parser as pr\n",
    "import datetime as dt\n",
    "import pandas as pd"
   ]
  },
  {
   "cell_type": "code",
   "execution_count": 2,
   "metadata": {},
   "outputs": [],
   "source": [
    "predictitAPIall = 'https://www.predictit.org/api/marketdata/all/'"
   ]
  },
  {
   "cell_type": "code",
   "execution_count": 9,
   "metadata": {},
   "outputs": [],
   "source": [
    "def getdbmaterial():\n",
    "    data = rq.urlopen(predictitAPIall)\n",
    "    parsed_data = js.loads(data.read())\n",
    "    return parsed_data"
   ]
  },
  {
   "cell_type": "code",
   "execution_count": 10,
   "metadata": {},
   "outputs": [],
   "source": [
    "db = getdbmaterial()"
   ]
  },
  {
   "cell_type": "code",
   "execution_count": 11,
   "metadata": {},
   "outputs": [],
   "source": [
    "market = db['markets']\n",
    "#len(market)\n",
    "#print(type(market))\n",
    "#print(market[1].keys())\n",
    "#print(market[1]['id'])\n",
    "#contract = market[20]['contracts']\n",
    "#print(contract[1].keys())\n",
    "#print(len(contract))"
   ]
  },
  {
   "cell_type": "code",
   "execution_count": 70,
   "metadata": {},
   "outputs": [
    {
     "name": "stdout",
     "output_type": "stream",
     "text": [
      "{'id': 4495, 'dateEnd': '2020-11-03T23:59:00', 'image': 'https://az620379.vo.msecnd.net/images/Contracts/small_ac8830d9-a557-4fc0-9eab-fd50eefa4d6a.png', 'name': 'Will Mark Cuban run for president in 2020?', 'shortName': 'Will Cuban run in 2020?', 'status': 'Open', 'lastTradePrice': 0.08, 'bestBuyYesCost': 0.1, 'bestBuyNoCost': 0.92, 'bestSellYesCost': 0.08, 'bestSellNoCost': 0.9, 'lastClosePrice': 0.08, 'displayOrder': 0}\n"
     ]
    }
   ],
   "source": [
    "def marketlistmakerfordb():\n",
    "    marketidlist = []\n",
    "    for i in range (0, (len(market)-1)):\n",
    "        market_name = market[i]['name']\n",
    "        market_id = market[i]['id']\n",
    "        marketidlist.append([market_name, market_id])\n",
    "    return marketidlist\n",
    "\n",
    "print(db['markets'][1]['contracts'][0])"
   ]
  },
  {
   "cell_type": "code",
   "execution_count": 25,
   "metadata": {},
   "outputs": [],
   "source": [
    "def contractmakerfordb():\n",
    "    date = dt.datetime.now()\n",
    "    data = getdbmaterial()\n",
    "    market = data['markets']\n",
    "    contractlist = []\n",
    "    for i in range (0, (len(market)-1)):\n",
    "        current_market = market[i]\n",
    "        market_name = market[i]['name']\n",
    "        market_id = market[i]['id']\n",
    "        contracts = current_market['contracts']\n",
    "        for i in range(0, (len(contracts)-1)):\n",
    "            current_contract = contracts[i]\n",
    "            contract_id = current_contract['id']\n",
    "            index = date.strftime(\"%Y%m%d'T'%H%M%S\")+'-'+str(contract_id)\n",
    "            contract_name = current_contract['name']\n",
    "            contract_end_date = current_contract['dateEnd']\n",
    "            contract_status = current_contract['status']\n",
    "            contract_lasttradeprice = current_contract['lastTradePrice']\n",
    "            contract_bestbuyyes = current_contract['bestBuyYesCost']\n",
    "            contract_bestbuyno = current_contract['bestBuyNoCost']\n",
    "            contract_bestsellyes = current_contract['bestSellYesCost']\n",
    "            contract_bestsellno = current_contract['bestSellNoCost']\n",
    "            contract_lastcloseprice = current_contract['lastClosePrice']\n",
    "            contractlist_insert = [index, date, market_id, contract_id, market_name, contract_name, contract_end_date, \n",
    "                                   contract_status, contract_lasttradeprice, contract_bestbuyyes,\n",
    "                                  contract_bestbuyno, contract_bestsellyes, contract_bestsellno,\n",
    "                                  contract_lastcloseprice]\n",
    "            contractlist.append(contractlist_insert)\n",
    "    db_column_names = ['Index','Date', 'Market ID', 'Contract ID', 'Market Name', 'Contract Name', 'Contract End Date', \n",
    "                      'Contract Status', 'Contract Last Trade Price', 'Contract Best Buy Yes Price',\n",
    "                      'Contract Best Buy No Price', 'Contract Best Sell Yes Price', \n",
    "                      'Contract Best Sell No Price', 'Contract Last Close Price']\n",
    "    database_df = pd.DataFrame(contractlist, columns = db_column_names)\n",
    "    return database_df"
   ]
  },
  {
   "cell_type": "code",
   "execution_count": 22,
   "metadata": {},
   "outputs": [
    {
     "name": "stdout",
     "output_type": "stream",
     "text": [
      "<function pricecsvmaker at 0x7f93409b7488>\n"
     ]
    }
   ],
   "source": [
    "def pricecsvmaker(marketname1, marketname2, contractname1, contractname2):\n",
    "    data = getdbmaterial()\n",
    "    markets = data['markets']\n",
    "    price_A = []\n",
    "    price_B = []\n",
    "    for i in range (0, (len(market)-1)):\n",
    "        current_market = market[i]\n",
    "        market_name = market[i]['name']\n",
    "        if market_name == marketname1:\n",
    "            contracts = current_market['contracts']\n",
    "            for i in range(0, (len(contracts)-1)):\n",
    "                current_contract = contracts[i]\n",
    "                contract_name = current_contract['name']\n",
    "                if contract_name == contractname1:\n",
    "                    price = current_contract['bestBuyYesCost']\n",
    "                    price_A.append(price)\n",
    "        if market_name == marketname2:\n",
    "            contracts = current_market['contracts']\n",
    "            for i in range(0, (len(contracts)-1)):\n",
    "                current_contract = contracts[i]\n",
    "                contract_name = current_contract['name']\n",
    "                if contract_name == contractname2:\n",
    "                    price = current_contract['bestBuyYesCost']\n",
    "                    price_B.append(price)\n",
    "    pricelist = [price_A[0], price_B[0]]   \n",
    "            #contractlist_insert = [contract_bestbuyyes1, contract_bestbuyyes2]\n",
    "            #contractlist.append(contractlist_insert)\n",
    "    db_column_names = ['Price Item 1' 'Price Item 2']\n",
    "    database_df = pd.DataFrame(contractlist, columns = db_column_names)\n",
    "    return database_df\n",
    "\n",
    "test = pricecsvmaker('Which party will win the 2020 U.S. presidential election?', \n",
    "                     'Will Mark Cuban run for president in 2020?',\n",
    "                    'Democratic',\n",
    "                    )\n",
    "print(test)"
   ]
  },
  {
   "cell_type": "code",
   "execution_count": 27,
   "metadata": {},
   "outputs": [
    {
     "data": {
      "text/html": [
       "<div>\n",
       "<style scoped>\n",
       "    .dataframe tbody tr th:only-of-type {\n",
       "        vertical-align: middle;\n",
       "    }\n",
       "\n",
       "    .dataframe tbody tr th {\n",
       "        vertical-align: top;\n",
       "    }\n",
       "\n",
       "    .dataframe thead th {\n",
       "        text-align: right;\n",
       "    }\n",
       "</style>\n",
       "<table border=\"1\" class=\"dataframe\">\n",
       "  <thead>\n",
       "    <tr style=\"text-align: right;\">\n",
       "      <th></th>\n",
       "      <th>Index</th>\n",
       "      <th>Date</th>\n",
       "      <th>Market ID</th>\n",
       "      <th>Contract ID</th>\n",
       "      <th>Market Name</th>\n",
       "      <th>Contract Name</th>\n",
       "      <th>Contract End Date</th>\n",
       "      <th>Contract Status</th>\n",
       "      <th>Contract Last Trade Price</th>\n",
       "      <th>Contract Best Buy Yes Price</th>\n",
       "      <th>Contract Best Buy No Price</th>\n",
       "      <th>Contract Best Sell Yes Price</th>\n",
       "      <th>Contract Best Sell No Price</th>\n",
       "      <th>Contract Last Close Price</th>\n",
       "    </tr>\n",
       "  </thead>\n",
       "  <tbody>\n",
       "    <tr>\n",
       "      <th>0</th>\n",
       "      <td>20191103'T'135747-4390</td>\n",
       "      <td>2019-11-03 13:57:47.422885</td>\n",
       "      <td>2721</td>\n",
       "      <td>4390</td>\n",
       "      <td>Which party will win the 2020 U.S. presidentia...</td>\n",
       "      <td>Democratic</td>\n",
       "      <td>N/A</td>\n",
       "      <td>Open</td>\n",
       "      <td>0.55</td>\n",
       "      <td>0.56</td>\n",
       "      <td>0.45</td>\n",
       "      <td>0.55</td>\n",
       "      <td>0.44</td>\n",
       "      <td>0.54</td>\n",
       "    </tr>\n",
       "    <tr>\n",
       "      <th>1</th>\n",
       "      <td>20191103'T'135747-4389</td>\n",
       "      <td>2019-11-03 13:57:47.422885</td>\n",
       "      <td>2721</td>\n",
       "      <td>4389</td>\n",
       "      <td>Which party will win the 2020 U.S. presidentia...</td>\n",
       "      <td>Republican</td>\n",
       "      <td>N/A</td>\n",
       "      <td>Open</td>\n",
       "      <td>0.48</td>\n",
       "      <td>0.48</td>\n",
       "      <td>0.53</td>\n",
       "      <td>0.47</td>\n",
       "      <td>0.52</td>\n",
       "      <td>0.48</td>\n",
       "    </tr>\n",
       "    <tr>\n",
       "      <th>2</th>\n",
       "      <td>20191103'T'135747-4388</td>\n",
       "      <td>2019-11-03 13:57:47.422885</td>\n",
       "      <td>2721</td>\n",
       "      <td>4388</td>\n",
       "      <td>Which party will win the 2020 U.S. presidentia...</td>\n",
       "      <td>Libertarian</td>\n",
       "      <td>N/A</td>\n",
       "      <td>Open</td>\n",
       "      <td>0.02</td>\n",
       "      <td>0.03</td>\n",
       "      <td>0.98</td>\n",
       "      <td>0.02</td>\n",
       "      <td>0.97</td>\n",
       "      <td>0.02</td>\n",
       "    </tr>\n",
       "    <tr>\n",
       "      <th>3</th>\n",
       "      <td>20191103'T'135747-5862</td>\n",
       "      <td>2019-11-03 13:57:47.422885</td>\n",
       "      <td>3091</td>\n",
       "      <td>5862</td>\n",
       "      <td>Who will be the next Speaker of the British Ho...</td>\n",
       "      <td>Lindsay Hoyle</td>\n",
       "      <td>N/A</td>\n",
       "      <td>Open</td>\n",
       "      <td>0.82</td>\n",
       "      <td>0.92</td>\n",
       "      <td>0.18</td>\n",
       "      <td>0.82</td>\n",
       "      <td>0.08</td>\n",
       "      <td>0.82</td>\n",
       "    </tr>\n",
       "    <tr>\n",
       "      <th>4</th>\n",
       "      <td>20191103'T'135747-17298</td>\n",
       "      <td>2019-11-03 13:57:47.422885</td>\n",
       "      <td>3091</td>\n",
       "      <td>17298</td>\n",
       "      <td>Who will be the next Speaker of the British Ho...</td>\n",
       "      <td>Harriet Harman</td>\n",
       "      <td>N/A</td>\n",
       "      <td>Open</td>\n",
       "      <td>0.06</td>\n",
       "      <td>0.08</td>\n",
       "      <td>NaN</td>\n",
       "      <td>NaN</td>\n",
       "      <td>0.92</td>\n",
       "      <td>0.06</td>\n",
       "    </tr>\n",
       "  </tbody>\n",
       "</table>\n",
       "</div>"
      ],
      "text/plain": [
       "                     Index                       Date  Market ID  Contract ID  \\\n",
       "0   20191103'T'135747-4390 2019-11-03 13:57:47.422885       2721         4390   \n",
       "1   20191103'T'135747-4389 2019-11-03 13:57:47.422885       2721         4389   \n",
       "2   20191103'T'135747-4388 2019-11-03 13:57:47.422885       2721         4388   \n",
       "3   20191103'T'135747-5862 2019-11-03 13:57:47.422885       3091         5862   \n",
       "4  20191103'T'135747-17298 2019-11-03 13:57:47.422885       3091        17298   \n",
       "\n",
       "                                         Market Name   Contract Name  \\\n",
       "0  Which party will win the 2020 U.S. presidentia...      Democratic   \n",
       "1  Which party will win the 2020 U.S. presidentia...      Republican   \n",
       "2  Which party will win the 2020 U.S. presidentia...     Libertarian   \n",
       "3  Who will be the next Speaker of the British Ho...   Lindsay Hoyle   \n",
       "4  Who will be the next Speaker of the British Ho...  Harriet Harman   \n",
       "\n",
       "  Contract End Date Contract Status  Contract Last Trade Price  \\\n",
       "0               N/A            Open                       0.55   \n",
       "1               N/A            Open                       0.48   \n",
       "2               N/A            Open                       0.02   \n",
       "3               N/A            Open                       0.82   \n",
       "4               N/A            Open                       0.06   \n",
       "\n",
       "   Contract Best Buy Yes Price  Contract Best Buy No Price  \\\n",
       "0                         0.56                        0.45   \n",
       "1                         0.48                        0.53   \n",
       "2                         0.03                        0.98   \n",
       "3                         0.92                        0.18   \n",
       "4                         0.08                         NaN   \n",
       "\n",
       "   Contract Best Sell Yes Price  Contract Best Sell No Price  \\\n",
       "0                          0.55                         0.44   \n",
       "1                          0.47                         0.52   \n",
       "2                          0.02                         0.97   \n",
       "3                          0.82                         0.08   \n",
       "4                           NaN                         0.92   \n",
       "\n",
       "   Contract Last Close Price  \n",
       "0                       0.54  \n",
       "1                       0.48  \n",
       "2                       0.02  \n",
       "3                       0.82  \n",
       "4                       0.06  "
      ]
     },
     "execution_count": 27,
     "metadata": {},
     "output_type": "execute_result"
    }
   ],
   "source": [
    "testdata = contractmakerfordb()"
   ]
  },
  {
   "cell_type": "code",
   "execution_count": 59,
   "metadata": {},
   "outputs": [
    {
     "name": "stdout",
     "output_type": "stream",
     "text": [
      "103\n"
     ]
    }
   ],
   "source": [
    "'''for i in range (0, (len(testdata)-1)):\n",
    "    conname = testdata['Contract Name'][i]\n",
    "    marname = testdata['Market Name'][i]\n",
    "    marid = testdata['Market ID'][i]\n",
    "    #if conname == 'Mark Cuban':\n",
    "    #    print(marname)\n",
    "    if marid == 3352:\n",
    "        print(marname)'''\n",
    "print(len(pd.unique(testdata['Market ID'])))"
   ]
  },
  {
   "cell_type": "code",
   "execution_count": 75,
   "metadata": {},
   "outputs": [
    {
     "name": "stdout",
     "output_type": "stream",
     "text": [
      "0\n",
      "1\n",
      "2\n",
      "3\n",
      "4\n"
     ]
    }
   ],
   "source": [
    "x = range(0,5)\n",
    "for n in x:\n",
    "    print(n)"
   ]
  },
  {
   "cell_type": "code",
   "execution_count": null,
   "metadata": {},
   "outputs": [],
   "source": []
  }
 ],
 "metadata": {
  "kernelspec": {
   "display_name": "Python 3",
   "language": "python",
   "name": "python3"
  },
  "language_info": {
   "codemirror_mode": {
    "name": "ipython",
    "version": 3
   },
   "file_extension": ".py",
   "mimetype": "text/x-python",
   "name": "python",
   "nbconvert_exporter": "python",
   "pygments_lexer": "ipython3",
   "version": "3.7.3"
  }
 },
 "nbformat": 4,
 "nbformat_minor": 2
}
