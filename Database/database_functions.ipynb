{
 "cells": [
  {
   "cell_type": "code",
   "execution_count": 1,
   "metadata": {},
   "outputs": [],
   "source": [
    "import urllib.request as rq\n",
    "import json as js\n",
    "from dateutil import parser as pr\n",
    "import datetime as dt\n",
    "import pandas as pd"
   ]
  },
  {
   "cell_type": "code",
   "execution_count": 2,
   "metadata": {},
   "outputs": [],
   "source": [
    "predictitAPIall = 'https://www.predictit.org/api/marketdata/all/'"
   ]
  },
  {
   "cell_type": "code",
   "execution_count": 3,
   "metadata": {},
   "outputs": [],
   "source": [
    "def getdbmaterial():\n",
    "    data = rq.urlopen(predictitAPIall)\n",
    "    parsed_data = js.loads(data.read())\n",
    "    return parsed_data"
   ]
  },
  {
   "cell_type": "code",
   "execution_count": 4,
   "metadata": {},
   "outputs": [],
   "source": [
    "#db = getdbmaterial()"
   ]
  },
  {
   "cell_type": "code",
   "execution_count": 5,
   "metadata": {},
   "outputs": [],
   "source": [
    "#market = db['markets']\n",
    "#len(market)\n",
    "#print(type(market))\n",
    "#print(market[1].keys())\n",
    "#print(market[1]['id'])\n",
    "#contract = market[20]['contracts']\n",
    "#print(contract[1].keys())\n",
    "#print(len(contract))"
   ]
  },
  {
   "cell_type": "code",
   "execution_count": 6,
   "metadata": {},
   "outputs": [],
   "source": [
    "def marketlistmakerfordb():\n",
    "    marketidlist = []\n",
    "    for i in range (0, (len(market)-1)):\n",
    "        market_id = market[i]['id']\n",
    "        marketidlist.append(market_id)\n",
    "    return marketidlist\n",
    "        "
   ]
  },
  {
   "cell_type": "code",
   "execution_count": 7,
   "metadata": {},
   "outputs": [],
   "source": [
    "def contractmakerfordb():\n",
    "    date = dt.datetime.now()\n",
    "    data = getdbmaterial()\n",
    "    market = data['markets']\n",
    "    contractlist = []\n",
    "    for i in range (0, (len(market)-1)):\n",
    "        current_market = market[i]\n",
    "        market_name = market[i]['name']\n",
    "        market_id = market[i]['id']\n",
    "        contracts = current_market['contracts']\n",
    "        for i in range(0, (len(contracts)-1)):\n",
    "            current_contract = contracts[i]\n",
    "            contract_id = current_contract['id']\n",
    "            index = date.strftime(\"%Y%m%d'T'%H%M%S\")+'-'+str(contract_id)\n",
    "            contract_name = current_contract['name']\n",
    "            contract_end_date = current_contract['dateEnd']\n",
    "            contract_status = current_contract['status']\n",
    "            contract_lasttradeprice = current_contract['lastTradePrice']\n",
    "            contract_bestbuyyes = current_contract['bestBuyYesCost']\n",
    "            contract_bestbuyno = current_contract['bestBuyNoCost']\n",
    "            contract_bestsellyes = current_contract['bestSellYesCost']\n",
    "            contract_bestsellno = current_contract['bestSellNoCost']\n",
    "            contract_lastcloseprice = current_contract['lastClosePrice']\n",
    "            contractlist_insert = [index, date, market_id, contract_id, market_name, contract_name, contract_end_date, \n",
    "                                   contract_status, contract_lasttradeprice, contract_bestbuyyes,\n",
    "                                  contract_bestbuyno, contract_bestsellyes, contract_bestsellno,\n",
    "                                  contract_lastcloseprice]\n",
    "            contractlist.append(contractlist_insert)\n",
    "    db_column_names = ['Index','Date', 'Market ID', 'Contract ID', 'Market Name', 'Contract Name', 'Contract End Date', \n",
    "                      'Contract Status', 'Contract Last Trade Price', 'Contract Best Buy Yes Price',\n",
    "                      'Contract Best Buy No Price', 'Contract Best Sell Yes Price', \n",
    "                      'Contract Best Sell No Price', 'Contract Last Close Price']\n",
    "    database_df = pd.DataFrame(contractlist, columns = db_column_names)\n",
    "    return database_df"
   ]
  },
  {
   "cell_type": "code",
   "execution_count": 9,
   "metadata": {},
   "outputs": [],
   "source": [
    "'''\n",
    "import sqlalchemy as db\n",
    "dataframe_insert = contractmakerfordb()\n",
    "engine = db.create_engine('sqlite:///predictit.sqlite3', echo=False)\n",
    "\n",
    "dataframe_insert.to_sql('Contracts', con=engine, if_exists='append', index_label='id')\n",
    "'''"
   ]
  },
  {
   "cell_type": "code",
   "execution_count": 10,
   "metadata": {},
   "outputs": [
    {
     "data": {
      "text/plain": [
       "[(744,)]"
      ]
     },
     "execution_count": 10,
     "metadata": {},
     "output_type": "execute_result"
    }
   ],
   "source": [
    "'''engine.execute(\"SELECT COUNT(*) FROM Contracts\").fetchall()'''"
   ]
  },
  {
   "cell_type": "code",
   "execution_count": null,
   "metadata": {},
   "outputs": [],
   "source": []
  }
 ],
 "metadata": {
  "kernelspec": {
   "display_name": "Python 3",
   "language": "python",
   "name": "python3"
  },
  "language_info": {
   "codemirror_mode": {
    "name": "ipython",
    "version": 3
   },
   "file_extension": ".py",
   "mimetype": "text/x-python",
   "name": "python",
   "nbconvert_exporter": "python",
   "pygments_lexer": "ipython3",
   "version": "3.7.3"
  }
 },
 "nbformat": 4,
 "nbformat_minor": 2
}
