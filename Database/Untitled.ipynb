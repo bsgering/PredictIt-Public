{
 "cells": [
  {
   "cell_type": "code",
   "execution_count": 1,
   "metadata": {},
   "outputs": [],
   "source": [
    "import sqlite3"
   ]
  },
  {
   "cell_type": "code",
   "execution_count": 12,
   "metadata": {},
   "outputs": [],
   "source": [
    "con = sqlite3.connect('predictit_db_2019-09.sqlite3')\n",
    " \n",
    "def sql_fetch(con):\n",
    " \n",
    "    cursorObj = con.cursor()\n",
    " \n",
    "    cursorObj.execute('SELECT COUNT(*) FROM Contracts')\n",
    " \n",
    "    rows = cursorObj.fetchall()\n",
    " \n",
    "    for row in rows:\n",
    " \n",
    "        print(row)\n"
   ]
  },
  {
   "cell_type": "code",
   "execution_count": 13,
   "metadata": {},
   "outputs": [
    {
     "name": "stdout",
     "output_type": "stream",
     "text": [
      "(2420,)\n"
     ]
    }
   ],
   "source": [
    "sql_fetch(con)"
   ]
  },
  {
   "cell_type": "code",
   "execution_count": null,
   "metadata": {},
   "outputs": [],
   "source": []
  }
 ],
 "metadata": {
  "kernelspec": {
   "display_name": "Python 3",
   "language": "python",
   "name": "python3"
  },
  "language_info": {
   "codemirror_mode": {
    "name": "ipython",
    "version": 3
   },
   "file_extension": ".py",
   "mimetype": "text/x-python",
   "name": "python",
   "nbconvert_exporter": "python",
   "pygments_lexer": "ipython3",
   "version": "3.7.3"
  }
 },
 "nbformat": 4,
 "nbformat_minor": 2
}
