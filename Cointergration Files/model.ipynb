{
 "cells": [
  {
   "cell_type": "code",
   "execution_count": 9,
   "metadata": {},
   "outputs": [],
   "source": [
    "from datetime import datetime\n",
    "\n",
    "import statistics as stat\n",
    "import pandas as pd\n",
    "from statsmodels.tsa.stattools import coint\n",
    "import matplotlib.pyplot as plt\n",
    "import numpy as np"
   ]
  },
  {
   "cell_type": "code",
   "execution_count": 178,
   "metadata": {},
   "outputs": [],
   "source": [
    "def pairsTradeModel(sOne, sTwo, cash, buyaggro, sellaggro, zscore, startday):\n",
    "    ratio = sOne/sTwo\n",
    "    value = []\n",
    "    opt1 = []\n",
    "    opt2 = []\n",
    "    sOneHold = 0\n",
    "    sTwoHold = 0\n",
    "    mu = stat.mean(ratio[0:startday-1])\n",
    "    sigma = stat.stdev(ratio[0:startday-1])\n",
    "    for i in range(len(sOne)):\n",
    "        x = ratio[i]       \n",
    "        if i > startday:\n",
    "            # Changed the mean/st.dev algorithms to ones that only involved n calculations. Previously we performed\n",
    "            # at least n^2 calculations, hence why it took forever...\n",
    "            muold = mu\n",
    "            mu = mu + ((ratio[i]-mu)/i)\n",
    "            sigma = ((i-1-1)/(i-1))*(sigma**2)+(1/(i-1))*(ratio[i]-mu)*(ratio[i]-muold)\n",
    "            # see https://stats.stackexchange.com/questions/24878/computation-of-new-standard-deviation-using-old-standard-deviation-after-change\n",
    "            if x > mu + (sigma*zscore):\n",
    "                cash = cash + (round(sOneHold*sellaggro)* sOne[i])\n",
    "                sOneHold -= round(sOneHold*sellaggro)\n",
    "                sTwoHold += round((cash*buyaggro)/sTwo[i])\n",
    "                cash = cash - ((round((cash*buyaggro)/sTwo[i]))* sTwo[i])\n",
    "            \n",
    "            if x < mu - (sigma*zscore):\n",
    "                cash = cash + round(sTwoHold*sellaggro)* sTwo[i]\n",
    "                sTwoHold -= round(sTwoHold*sellaggro)\n",
    "                sOneHold += round((cash*buyaggro)/sOne[i])\n",
    "                cash = cash - ((round((cash*buyaggro)/sOne[i]))* sOne[i])\n",
    "                               \n",
    "        portfolioVal = cash + (sTwoHold * sTwo[i]) + (sOneHold * sOne[i])\n",
    "        value.append(portfolioVal)\n",
    "        \n",
    "        if i > startday:\n",
    "            opt1.append((portfolioVal/value[startday])*100)\n",
    "            opt2.append((sOne[i]/sOne[startday])*100)\n",
    "        #ratio.append(x)\n",
    "        \n",
    "    #print(coint(sOne, sTwo, autolag = 'aic'))\n",
    "    \n",
    "    cash = cash + (sOneHold * sOne[len(sOne)-1]) + (sTwoHold * sTwo[len(sTwo)-1])\n",
    "    print('Pairs Return:' + str(cash/10000))\n",
    "    print(\"Regular Return:\" + str(sOne[len(sOne)-1]/sOne[90]))\n",
    "        \n",
    "    plt.plot(opt1, color='green')\n",
    "    plt.plot(opt2, color='red')\n",
    "    plt.show()\n",
    "    \n",
    "    return"
   ]
  },
  {
   "cell_type": "code",
   "execution_count": 179,
   "metadata": {},
   "outputs": [],
   "source": [
    "def main():\n",
    "    df = pd.read_csv('stock.csv')   \n",
    "    #df = np.genfromtxt('stock.csv', dtype=float, delimiter=\",\",skip_header=1)\n",
    "    #VOO = df[:,1]\n",
    "    #SPY = df[:,2]\n",
    "    numpy_df = np.asarray(df)\n",
    "    #print(numpy_df)\n",
    "    VOO = numpy_df[:,1]\n",
    "    #VOO.astype(int)\n",
    "    SPY = numpy_df[:,2]\n",
    "    #SPY.astype(int)\n",
    "    #VOO = df['VOO']\n",
    "    #SPY = df['SPY']\n",
    "    \n",
    "    pairsTradeModel(VOO, SPY, 10000, 0.30, 0.30, 0.53, 90)\n",
    "    return"
   ]
  },
  {
   "cell_type": "code",
   "execution_count": 180,
   "metadata": {},
   "outputs": [
    {
     "name": "stdout",
     "output_type": "stream",
     "text": [
      "Pairs Return:1.4734699360999999\n",
      "Regular Return:1.4496874462685876\n"
     ]
    },
    {
     "data": {
      "image/png": "[encoded data removed]",
      "text/plain": [
       "<Figure size 432x288 with 1 Axes>"
      ]
     },
     "metadata": {
      "needs_background": "light"
     },
     "output_type": "display_data"
    },
    {
     "name": "stdout",
     "output_type": "stream",
     "text": [
      "Executed in: 0:00:00.112957\n"
     ]
    }
   ],
   "source": [
    "if __name__ == \"__main__\":\n",
    "    startTime = datetime.now()\n",
    "    main()\n",
    "    print(\"Executed in:\", datetime.now() - startTime)"
   ]
  },
  {
   "cell_type": "code",
   "execution_count": 163,
   "metadata": {},
   "outputs": [
    {
     "data": {
      "text/html": [
       "<div>\n",
       "<style scoped>\n",
       "    .dataframe tbody tr th:only-of-type {\n",
       "        vertical-align: middle;\n",
       "    }\n",
       "\n",
       "    .dataframe tbody tr th {\n",
       "        vertical-align: top;\n",
       "    }\n",
       "\n",
       "    .dataframe thead th {\n",
       "        text-align: right;\n",
       "    }\n",
       "</style>\n",
       "<table border=\"1\" class=\"dataframe\">\n",
       "  <thead>\n",
       "    <tr style=\"text-align: right;\">\n",
       "      <th></th>\n",
       "      <th>Unnamed: 0</th>\n",
       "      <th>buy_yes_x</th>\n",
       "      <th>buy_yes_y</th>\n",
       "    </tr>\n",
       "  </thead>\n",
       "  <tbody>\n",
       "    <tr>\n",
       "      <th>0</th>\n",
       "      <td>0</td>\n",
       "      <td>0.04</td>\n",
       "      <td>0.07</td>\n",
       "    </tr>\n",
       "    <tr>\n",
       "      <th>1</th>\n",
       "      <td>1</td>\n",
       "      <td>0.04</td>\n",
       "      <td>0.07</td>\n",
       "    </tr>\n",
       "    <tr>\n",
       "      <th>2</th>\n",
       "      <td>2</td>\n",
       "      <td>0.04</td>\n",
       "      <td>0.07</td>\n",
       "    </tr>\n",
       "    <tr>\n",
       "      <th>3</th>\n",
       "      <td>3</td>\n",
       "      <td>0.04</td>\n",
       "      <td>0.07</td>\n",
       "    </tr>\n",
       "    <tr>\n",
       "      <th>4</th>\n",
       "      <td>4</td>\n",
       "      <td>0.04</td>\n",
       "      <td>0.07</td>\n",
       "    </tr>\n",
       "  </tbody>\n",
       "</table>\n",
       "</div>"
      ],
      "text/plain": [
       "   Unnamed: 0  buy_yes_x  buy_yes_y\n",
       "0           0       0.04       0.07\n",
       "1           1       0.04       0.07\n",
       "2           2       0.04       0.07\n",
       "3           3       0.04       0.07\n",
       "4           4       0.04       0.07"
      ]
     },
     "execution_count": 163,
     "metadata": {},
     "output_type": "execute_result"
    }
   ],
   "source": [
    "data = pd.read_csv('prices.csv')\n",
    "data.head()"
   ]
  },
  {
   "cell_type": "code",
   "execution_count": null,
   "metadata": {},
   "outputs": [],
   "source": []
  }
 ],
 "metadata": {
  "kernelspec": {
   "display_name": "Python 3",
   "language": "python",
   "name": "python3"
  },
  "language_info": {
   "codemirror_mode": {
    "name": "ipython",
    "version": 3
   },
   "file_extension": ".py",
   "mimetype": "text/x-python",
   "name": "python",
   "nbconvert_exporter": "python",
   "pygments_lexer": "ipython3",
   "version": "3.7.3"
  }
 },
 "nbformat": 4,
 "nbformat_minor": 2
}
