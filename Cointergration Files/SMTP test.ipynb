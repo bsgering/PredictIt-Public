{
 "cells": [
  {
   "cell_type": "code",
   "execution_count": 9,
   "metadata": {},
   "outputs": [],
   "source": [
    "import discord as ds\n",
    "from discord import Webhook, RequestsWebhookAdapter\n",
    "import requests"
   ]
  },
  {
   "cell_type": "code",
   "execution_count": 11,
   "metadata": {},
   "outputs": [
    {
     "data": {
      "text/plain": [
       "''"
      ]
     },
     "execution_count": 11,
     "metadata": {},
     "output_type": "execute_result"
    }
   ],
   "source": [
    "webhook = Webhook.partial(641106641973936133, '6j90ECRzIXIVbIMf7GDys4NEyEKaLI0vlX1hGNZo_akQBVsPjylAiiLyGy7eoq-38IJs', \n",
    "                          adapter=RequestsWebhookAdapter())\n",
    "webhook.send('I am bot')"
   ]
  },
  {
   "cell_type": "code",
   "execution_count": 5,
   "metadata": {},
   "outputs": [],
   "source": [
    "https://discordapp.com/channels/641096818305794068/641096818305794070"
   ]
  },
  {
   "cell_type": "code",
   "execution_count": 7,
   "metadata": {},
   "outputs": [],
   "source": [
    "\n",
    "https://discordapp.com/api/webhooks/641106641973936133/\n",
    "    6j90ECRzIXIVbIMf7GDys4NEyEKaLI0vlX1hGNZo_akQBVsPjylAiiLyGy7eoq-38IJs"
   ]
  },
  {
   "cell_type": "code",
   "execution_count": null,
   "metadata": {},
   "outputs": [],
   "source": []
  }
 ],
 "metadata": {
  "kernelspec": {
   "display_name": "Python 3",
   "language": "python",
   "name": "python3"
  },
  "language_info": {
   "codemirror_mode": {
    "name": "ipython",
    "version": 3
   },
   "file_extension": ".py",
   "mimetype": "text/x-python",
   "name": "python",
   "nbconvert_exporter": "python",
   "pygments_lexer": "ipython3",
   "version": "3.7.3"
  }
 },
 "nbformat": 4,
 "nbformat_minor": 2
}
