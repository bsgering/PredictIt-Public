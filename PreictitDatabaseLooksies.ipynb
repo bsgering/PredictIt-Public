{
 "cells": [
  {
   "cell_type": "code",
   "execution_count": 12,
   "metadata": {},
   "outputs": [],
   "source": [
    "import numpy as np\n",
    "import pandas as pd\n",
    "import sqlite3"
   ]
  },
  {
   "cell_type": "code",
   "execution_count": 20,
   "metadata": {},
   "outputs": [
    {
     "name": "stdout",
     "output_type": "stream",
     "text": [
      "   price_id  contract_id  last_price  buy_yes  buy_no  sell_yes  sell_no  \\\n",
      "0         1            1        0.58     0.58    0.43      0.57     0.42   \n",
      "1       513            1        0.58     0.58    0.43      0.57     0.42   \n",
      "2      1025            1        0.58     0.58    0.43      0.57     0.42   \n",
      "3      1537            1        0.58     0.58    0.43      0.57     0.42   \n",
      "4      2049            1        0.58     0.58    0.43      0.57     0.42   \n",
      "\n",
      "                   time_stamp  \n",
      "0  2019-03-26 10:04:44.686688  \n",
      "1  2019-03-26 10:05:45.412584  \n",
      "2  2019-03-26 10:06:45.675399  \n",
      "3  2019-03-26 10:07:46.795817  \n",
      "4  2019-03-26 10:08:47.484901  \n"
     ]
    }
   ],
   "source": [
    "#file = \"~/Documents/Python Scripts/Predictit/Data/testdata.xml\"\n",
    "#pd.read_excel(\"Data/testdata.xml\")\n",
    "conn = sqlite3.connect('2019-03-30.db')\n",
    "df = pd.read_sql(\"SELECT * FROM Prices WHERE contract_id = 1\", conn)\n",
    "print(df.head())"
   ]
  },
  {
   "cell_type": "code",
   "execution_count": null,
   "metadata": {},
   "outputs": [],
   "source": []
  }
 ],
 "metadata": {
  "kernelspec": {
   "display_name": "Python 3",
   "language": "python",
   "name": "python3"
  },
  "language_info": {
   "codemirror_mode": {
    "name": "ipython",
    "version": 3
   },
   "file_extension": ".py",
   "mimetype": "text/x-python",
   "name": "python",
   "nbconvert_exporter": "python",
   "pygments_lexer": "ipython3",
   "version": "3.7.0"
  }
 },
 "nbformat": 4,
 "nbformat_minor": 2
}
